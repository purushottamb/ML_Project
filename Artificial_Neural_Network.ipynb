{
  "nbformat": 4,
  "nbformat_minor": 0,
  "metadata": {
    "colab": {
      "name": "Artificial Neural Network.ipynb",
      "provenance": [],
      "collapsed_sections": [],
      "toc_visible": true
    },
    "kernelspec": {
      "name": "python3",
      "display_name": "Python 3"
    }
  },
  "cells": [
    {
      "cell_type": "markdown",
      "metadata": {
        "id": "lP6JLo1tGNBg",
        "colab_type": "text"
      },
      "source": [
        "# Artificial Neural Network"
      ]
    },
    {
      "cell_type": "markdown",
      "metadata": {
        "id": "gWZyYmS_UE_L",
        "colab_type": "text"
      },
      "source": [
        "### Importing the libraries"
      ]
    },
    {
      "cell_type": "code",
      "metadata": {
        "id": "MxkJoQBkUIHC",
        "colab_type": "code",
        "colab": {}
      },
      "source": [
        "import numpy as np\n",
        "import pandas as pd\n",
        "import tensorflow as tf\n",
        "import seaborn as sns\n",
        "import matplotlib.pyplot as plt\n",
        "\n"
      ],
      "execution_count": 4,
      "outputs": []
    },
    {
      "cell_type": "code",
      "metadata": {
        "id": "ZaTwK7ojXr2F",
        "colab_type": "code",
        "colab": {
          "base_uri": "https://localhost:8080/",
          "height": 35
        },
        "outputId": "179832e4-b1c2-4244-f317-b31fa74419e0"
      },
      "source": [
        "tf.__version__"
      ],
      "execution_count": null,
      "outputs": [
        {
          "output_type": "execute_result",
          "data": {
            "text/plain": [
              "'2.2.0'"
            ]
          },
          "metadata": {
            "tags": []
          },
          "execution_count": 3
        }
      ]
    },
    {
      "cell_type": "markdown",
      "metadata": {
        "id": "1E0Q3aoKUCRX",
        "colab_type": "text"
      },
      "source": [
        "## Part 1 - Data Preprocessing"
      ]
    },
    {
      "cell_type": "markdown",
      "metadata": {
        "id": "cKWAkFVGUU0Z",
        "colab_type": "text"
      },
      "source": [
        "### Importing the dataset"
      ]
    },
    {
      "cell_type": "code",
      "metadata": {
        "id": "MXUkhkMfU4wq",
        "colab_type": "code",
        "colab": {}
      },
      "source": [
        "#Load Dataset\n",
        "dataset = pd.read_csv('dataset.csv')\n",
        "#split DV and IDVs\n",
        "X = dataset.iloc[:, 3:-1] # Features\n",
        "y = dataset.iloc[:, -1] # Target variable"
      ],
      "execution_count": 5,
      "outputs": []
    },
    {
      "cell_type": "code",
      "metadata": {
        "id": "sPaHeULSo8aO",
        "colab_type": "code",
        "colab": {
          "base_uri": "https://localhost:8080/",
          "height": 203
        },
        "outputId": "d2309fd9-7b95-43b0-bfa6-55a3c14baa48"
      },
      "source": [
        "dataset.head()"
      ],
      "execution_count": null,
      "outputs": [
        {
          "output_type": "execute_result",
          "data": {
            "text/html": [
              "<div>\n",
              "<style scoped>\n",
              "    .dataframe tbody tr th:only-of-type {\n",
              "        vertical-align: middle;\n",
              "    }\n",
              "\n",
              "    .dataframe tbody tr th {\n",
              "        vertical-align: top;\n",
              "    }\n",
              "\n",
              "    .dataframe thead th {\n",
              "        text-align: right;\n",
              "    }\n",
              "</style>\n",
              "<table border=\"1\" class=\"dataframe\">\n",
              "  <thead>\n",
              "    <tr style=\"text-align: right;\">\n",
              "      <th></th>\n",
              "      <th>age</th>\n",
              "      <th>UR</th>\n",
              "      <th>Literacy</th>\n",
              "      <th>Numeracy</th>\n",
              "      <th>fn</th>\n",
              "      <th>yrsofedu</th>\n",
              "      <th>active_dfs</th>\n",
              "    </tr>\n",
              "  </thead>\n",
              "  <tbody>\n",
              "    <tr>\n",
              "      <th>0</th>\n",
              "      <td>15</td>\n",
              "      <td>1</td>\n",
              "      <td>1</td>\n",
              "      <td>1</td>\n",
              "      <td>0</td>\n",
              "      <td>10</td>\n",
              "      <td>1</td>\n",
              "    </tr>\n",
              "    <tr>\n",
              "      <th>1</th>\n",
              "      <td>55</td>\n",
              "      <td>1</td>\n",
              "      <td>1</td>\n",
              "      <td>1</td>\n",
              "      <td>0</td>\n",
              "      <td>10</td>\n",
              "      <td>1</td>\n",
              "    </tr>\n",
              "    <tr>\n",
              "      <th>2</th>\n",
              "      <td>62</td>\n",
              "      <td>1</td>\n",
              "      <td>1</td>\n",
              "      <td>1</td>\n",
              "      <td>1</td>\n",
              "      <td>10</td>\n",
              "      <td>1</td>\n",
              "    </tr>\n",
              "    <tr>\n",
              "      <th>3</th>\n",
              "      <td>26</td>\n",
              "      <td>1</td>\n",
              "      <td>1</td>\n",
              "      <td>1</td>\n",
              "      <td>1</td>\n",
              "      <td>10</td>\n",
              "      <td>1</td>\n",
              "    </tr>\n",
              "    <tr>\n",
              "      <th>4</th>\n",
              "      <td>39</td>\n",
              "      <td>1</td>\n",
              "      <td>1</td>\n",
              "      <td>1</td>\n",
              "      <td>1</td>\n",
              "      <td>10</td>\n",
              "      <td>1</td>\n",
              "    </tr>\n",
              "  </tbody>\n",
              "</table>\n",
              "</div>"
            ],
            "text/plain": [
              "   age  UR  Literacy  Numeracy  fn  yrsofedu  active_dfs\n",
              "0   15   1         1         1   0        10           1\n",
              "1   55   1         1         1   0        10           1\n",
              "2   62   1         1         1   1        10           1\n",
              "3   26   1         1         1   1        10           1\n",
              "4   39   1         1         1   1        10           1"
            ]
          },
          "metadata": {
            "tags": []
          },
          "execution_count": 5
        }
      ]
    },
    {
      "cell_type": "code",
      "metadata": {
        "id": "VYP9cQTWbzuI",
        "colab_type": "code",
        "colab": {}
      },
      "source": [
        "print(X)"
      ],
      "execution_count": null,
      "outputs": []
    },
    {
      "cell_type": "code",
      "metadata": {
        "id": "38vKGE6Nb2RR",
        "colab_type": "code",
        "colab": {}
      },
      "source": [
        "print(y)"
      ],
      "execution_count": null,
      "outputs": []
    },
    {
      "cell_type": "markdown",
      "metadata": {
        "id": "RE_FcHyfV3TQ",
        "colab_type": "text"
      },
      "source": [
        "### Feature Scaling"
      ]
    },
    {
      "cell_type": "code",
      "metadata": {
        "id": "ViCrE00rV8Sk",
        "colab_type": "code",
        "colab": {}
      },
      "source": [
        "from sklearn.preprocessing import StandardScaler\n",
        "sc = StandardScaler()\n",
        "X = sc.fit_transform(X)"
      ],
      "execution_count": 6,
      "outputs": []
    },
    {
      "cell_type": "code",
      "metadata": {
        "id": "De3UsJwXdfMz",
        "colab_type": "code",
        "colab": {
          "base_uri": "https://localhost:8080/",
          "height": 246
        },
        "outputId": "a44148b3-b57c-4a5c-a2cf-6917f78ff37e"
      },
      "source": [
        "print(X)"
      ],
      "execution_count": null,
      "outputs": [
        {
          "output_type": "stream",
          "text": [
            "[[ 0.99720391 -0.57873591 -0.57380915 ...  0.64609167  0.97024255\n",
            "   0.02188649]\n",
            " [-1.00280393 -0.57873591  1.74273971 ... -1.54776799  0.97024255\n",
            "   0.21653375]\n",
            " [ 0.99720391 -0.57873591 -0.57380915 ...  0.64609167 -1.03067011\n",
            "   0.2406869 ]\n",
            " ...\n",
            " [ 0.99720391 -0.57873591 -0.57380915 ... -1.54776799  0.97024255\n",
            "  -1.00864308]\n",
            " [-1.00280393  1.72790383 -0.57380915 ...  0.64609167 -1.03067011\n",
            "  -0.12523071]\n",
            " [ 0.99720391 -0.57873591 -0.57380915 ...  0.64609167 -1.03067011\n",
            "  -1.07636976]]\n"
          ],
          "name": "stdout"
        }
      ]
    },
    {
      "cell_type": "markdown",
      "metadata": {
        "id": "vHol938cW8zd",
        "colab_type": "text"
      },
      "source": [
        "### Splitting the dataset into the Training set and Test set"
      ]
    },
    {
      "cell_type": "code",
      "metadata": {
        "id": "Z-TDt0Y_XEfc",
        "colab_type": "code",
        "colab": {}
      },
      "source": [
        "from sklearn.model_selection import train_test_split\n",
        "X_train, X_test, y_train, y_test = train_test_split(X, y, test_size = 0.2, random_state = 0)"
      ],
      "execution_count": 7,
      "outputs": []
    },
    {
      "cell_type": "markdown",
      "metadata": {
        "id": "-zfEzkRVXIwF",
        "colab_type": "text"
      },
      "source": [
        "## Part 2 - Building the ANN"
      ]
    },
    {
      "cell_type": "markdown",
      "metadata": {
        "id": "KvdeScabXtlB",
        "colab_type": "text"
      },
      "source": [
        "### Initializing the ANN"
      ]
    },
    {
      "cell_type": "code",
      "metadata": {
        "id": "3dtrScHxXQox",
        "colab_type": "code",
        "colab": {}
      },
      "source": [
        "ann = tf.keras.models.Sequential()"
      ],
      "execution_count": 8,
      "outputs": []
    },
    {
      "cell_type": "markdown",
      "metadata": {
        "id": "rP6urV6SX7kS",
        "colab_type": "text"
      },
      "source": [
        "### Adding the input layer and the first hidden layer"
      ]
    },
    {
      "cell_type": "code",
      "metadata": {
        "id": "bppGycBXYCQr",
        "colab_type": "code",
        "colab": {}
      },
      "source": [
        "ann.add(tf.keras.layers.Dense(units=6, activation='relu'))"
      ],
      "execution_count": 9,
      "outputs": []
    },
    {
      "cell_type": "markdown",
      "metadata": {
        "id": "BELWAc_8YJze",
        "colab_type": "text"
      },
      "source": [
        "### Adding the second hidden layer"
      ]
    },
    {
      "cell_type": "code",
      "metadata": {
        "id": "JneR0u0sYRTd",
        "colab_type": "code",
        "colab": {}
      },
      "source": [
        "ann.add(tf.keras.layers.Dense(units=6, activation='relu'))"
      ],
      "execution_count": 10,
      "outputs": []
    },
    {
      "cell_type": "markdown",
      "metadata": {
        "id": "OyNEe6RXYcU4",
        "colab_type": "text"
      },
      "source": [
        "### Adding the output layer"
      ]
    },
    {
      "cell_type": "code",
      "metadata": {
        "id": "Cn3x41RBYfvY",
        "colab_type": "code",
        "colab": {}
      },
      "source": [
        "ann.add(tf.keras.layers.Dense(units=1, activation='sigmoid'))"
      ],
      "execution_count": 11,
      "outputs": []
    },
    {
      "cell_type": "markdown",
      "metadata": {
        "id": "JT4u2S1_Y4WG",
        "colab_type": "text"
      },
      "source": [
        "## Training the ANN"
      ]
    },
    {
      "cell_type": "markdown",
      "metadata": {
        "id": "8GWlJChhY_ZI",
        "colab_type": "text"
      },
      "source": [
        "### Compiling the ANN"
      ]
    },
    {
      "cell_type": "code",
      "metadata": {
        "id": "fG3RrwDXZEaS",
        "colab_type": "code",
        "colab": {}
      },
      "source": [
        "ann.compile(optimizer = 'adam', loss = 'binary_crossentropy', metrics = ['accuracy'])"
      ],
      "execution_count": 12,
      "outputs": []
    },
    {
      "cell_type": "markdown",
      "metadata": {
        "id": "0QR_G5u7ZLSM",
        "colab_type": "text"
      },
      "source": [
        "### Training the ANN on the Training set"
      ]
    },
    {
      "cell_type": "code",
      "metadata": {
        "id": "nHZ-LKv_ZRb3",
        "colab_type": "code",
        "colab": {
          "base_uri": "https://localhost:8080/",
          "height": 1000
        },
        "outputId": "0d1f62d7-8768-4a27-f375-bc8e6dfbcf53"
      },
      "source": [
        "ann.fit(X_train, y_train, batch_size = 6, epochs = 200)"
      ],
      "execution_count": 24,
      "outputs": [
        {
          "output_type": "stream",
          "text": [
            "Epoch 1/200\n",
            "24/24 [==============================] - 0s 1ms/step - loss: 0.4147 - accuracy: 0.7929\n",
            "Epoch 2/200\n",
            "24/24 [==============================] - 0s 1ms/step - loss: 0.4135 - accuracy: 0.8000\n",
            "Epoch 3/200\n",
            "24/24 [==============================] - 0s 1ms/step - loss: 0.4128 - accuracy: 0.8000\n",
            "Epoch 4/200\n",
            "24/24 [==============================] - 0s 1ms/step - loss: 0.4114 - accuracy: 0.7929\n",
            "Epoch 5/200\n",
            "24/24 [==============================] - 0s 1ms/step - loss: 0.4107 - accuracy: 0.8000\n",
            "Epoch 6/200\n",
            "24/24 [==============================] - 0s 1ms/step - loss: 0.4094 - accuracy: 0.8071\n",
            "Epoch 7/200\n",
            "24/24 [==============================] - 0s 1ms/step - loss: 0.4104 - accuracy: 0.8071\n",
            "Epoch 8/200\n",
            "24/24 [==============================] - 0s 1ms/step - loss: 0.4103 - accuracy: 0.8071\n",
            "Epoch 9/200\n",
            "24/24 [==============================] - 0s 1ms/step - loss: 0.4105 - accuracy: 0.8000\n",
            "Epoch 10/200\n",
            "24/24 [==============================] - 0s 1ms/step - loss: 0.4086 - accuracy: 0.8000\n",
            "Epoch 11/200\n",
            "24/24 [==============================] - 0s 1ms/step - loss: 0.4084 - accuracy: 0.8071\n",
            "Epoch 12/200\n",
            "24/24 [==============================] - 0s 1ms/step - loss: 0.4093 - accuracy: 0.8071\n",
            "Epoch 13/200\n",
            "24/24 [==============================] - 0s 1ms/step - loss: 0.4078 - accuracy: 0.8000\n",
            "Epoch 14/200\n",
            "24/24 [==============================] - 0s 1ms/step - loss: 0.4072 - accuracy: 0.8071\n",
            "Epoch 15/200\n",
            "24/24 [==============================] - 0s 1ms/step - loss: 0.4090 - accuracy: 0.8071\n",
            "Epoch 16/200\n",
            "24/24 [==============================] - 0s 1ms/step - loss: 0.4063 - accuracy: 0.8071\n",
            "Epoch 17/200\n",
            "24/24 [==============================] - 0s 1ms/step - loss: 0.4065 - accuracy: 0.8000\n",
            "Epoch 18/200\n",
            "24/24 [==============================] - 0s 1ms/step - loss: 0.4049 - accuracy: 0.8071\n",
            "Epoch 19/200\n",
            "24/24 [==============================] - 0s 1ms/step - loss: 0.4061 - accuracy: 0.8071\n",
            "Epoch 20/200\n",
            "24/24 [==============================] - 0s 1ms/step - loss: 0.4053 - accuracy: 0.8000\n",
            "Epoch 21/200\n",
            "24/24 [==============================] - 0s 1ms/step - loss: 0.4052 - accuracy: 0.8071\n",
            "Epoch 22/200\n",
            "24/24 [==============================] - 0s 1ms/step - loss: 0.4055 - accuracy: 0.8000\n",
            "Epoch 23/200\n",
            "24/24 [==============================] - 0s 1ms/step - loss: 0.4041 - accuracy: 0.8000\n",
            "Epoch 24/200\n",
            "24/24 [==============================] - 0s 1ms/step - loss: 0.4037 - accuracy: 0.8000\n",
            "Epoch 25/200\n",
            "24/24 [==============================] - 0s 1ms/step - loss: 0.4040 - accuracy: 0.8000\n",
            "Epoch 26/200\n",
            "24/24 [==============================] - 0s 1ms/step - loss: 0.4035 - accuracy: 0.8000\n",
            "Epoch 27/200\n",
            "24/24 [==============================] - 0s 1ms/step - loss: 0.4037 - accuracy: 0.8071\n",
            "Epoch 28/200\n",
            "24/24 [==============================] - 0s 1ms/step - loss: 0.4028 - accuracy: 0.8071\n",
            "Epoch 29/200\n",
            "24/24 [==============================] - 0s 1ms/step - loss: 0.4031 - accuracy: 0.8071\n",
            "Epoch 30/200\n",
            "24/24 [==============================] - 0s 1ms/step - loss: 0.4031 - accuracy: 0.8071\n",
            "Epoch 31/200\n",
            "24/24 [==============================] - 0s 1ms/step - loss: 0.4026 - accuracy: 0.8000\n",
            "Epoch 32/200\n",
            "24/24 [==============================] - 0s 1ms/step - loss: 0.4024 - accuracy: 0.8000\n",
            "Epoch 33/200\n",
            "24/24 [==============================] - 0s 1ms/step - loss: 0.4019 - accuracy: 0.8071\n",
            "Epoch 34/200\n",
            "24/24 [==============================] - 0s 1ms/step - loss: 0.4013 - accuracy: 0.8071\n",
            "Epoch 35/200\n",
            "24/24 [==============================] - 0s 1ms/step - loss: 0.4017 - accuracy: 0.8071\n",
            "Epoch 36/200\n",
            "24/24 [==============================] - 0s 1ms/step - loss: 0.4013 - accuracy: 0.8000\n",
            "Epoch 37/200\n",
            "24/24 [==============================] - 0s 1ms/step - loss: 0.4009 - accuracy: 0.8071\n",
            "Epoch 38/200\n",
            "24/24 [==============================] - 0s 1ms/step - loss: 0.4006 - accuracy: 0.8071\n",
            "Epoch 39/200\n",
            "24/24 [==============================] - 0s 1ms/step - loss: 0.4011 - accuracy: 0.8071\n",
            "Epoch 40/200\n",
            "24/24 [==============================] - 0s 1ms/step - loss: 0.4027 - accuracy: 0.8000\n",
            "Epoch 41/200\n",
            "24/24 [==============================] - 0s 1ms/step - loss: 0.4000 - accuracy: 0.8071\n",
            "Epoch 42/200\n",
            "24/24 [==============================] - 0s 1ms/step - loss: 0.3995 - accuracy: 0.8071\n",
            "Epoch 43/200\n",
            "24/24 [==============================] - 0s 1ms/step - loss: 0.4006 - accuracy: 0.8071\n",
            "Epoch 44/200\n",
            "24/24 [==============================] - 0s 1ms/step - loss: 0.4009 - accuracy: 0.8071\n",
            "Epoch 45/200\n",
            "24/24 [==============================] - 0s 2ms/step - loss: 0.3997 - accuracy: 0.8071\n",
            "Epoch 46/200\n",
            "24/24 [==============================] - 0s 1ms/step - loss: 0.3989 - accuracy: 0.8071\n",
            "Epoch 47/200\n",
            "24/24 [==============================] - 0s 1ms/step - loss: 0.3994 - accuracy: 0.8071\n",
            "Epoch 48/200\n",
            "24/24 [==============================] - 0s 1ms/step - loss: 0.3985 - accuracy: 0.8000\n",
            "Epoch 49/200\n",
            "24/24 [==============================] - 0s 1ms/step - loss: 0.3988 - accuracy: 0.8000\n",
            "Epoch 50/200\n",
            "24/24 [==============================] - 0s 1ms/step - loss: 0.3990 - accuracy: 0.8071\n",
            "Epoch 51/200\n",
            "24/24 [==============================] - 0s 1ms/step - loss: 0.3988 - accuracy: 0.8071\n",
            "Epoch 52/200\n",
            "24/24 [==============================] - 0s 1ms/step - loss: 0.3977 - accuracy: 0.8071\n",
            "Epoch 53/200\n",
            "24/24 [==============================] - 0s 1ms/step - loss: 0.3978 - accuracy: 0.8071\n",
            "Epoch 54/200\n",
            "24/24 [==============================] - 0s 1ms/step - loss: 0.3974 - accuracy: 0.8071\n",
            "Epoch 55/200\n",
            "24/24 [==============================] - 0s 1ms/step - loss: 0.3971 - accuracy: 0.8071\n",
            "Epoch 56/200\n",
            "24/24 [==============================] - 0s 1ms/step - loss: 0.3975 - accuracy: 0.8071\n",
            "Epoch 57/200\n",
            "24/24 [==============================] - 0s 1ms/step - loss: 0.3972 - accuracy: 0.8000\n",
            "Epoch 58/200\n",
            "24/24 [==============================] - 0s 1ms/step - loss: 0.3960 - accuracy: 0.8071\n",
            "Epoch 59/200\n",
            "24/24 [==============================] - 0s 1ms/step - loss: 0.3963 - accuracy: 0.8071\n",
            "Epoch 60/200\n",
            "24/24 [==============================] - 0s 1ms/step - loss: 0.3968 - accuracy: 0.8071\n",
            "Epoch 61/200\n",
            "24/24 [==============================] - 0s 1ms/step - loss: 0.3954 - accuracy: 0.8071\n",
            "Epoch 62/200\n",
            "24/24 [==============================] - 0s 1ms/step - loss: 0.3958 - accuracy: 0.8071\n",
            "Epoch 63/200\n",
            "24/24 [==============================] - 0s 1ms/step - loss: 0.3962 - accuracy: 0.8000\n",
            "Epoch 64/200\n",
            "24/24 [==============================] - 0s 1ms/step - loss: 0.3953 - accuracy: 0.8000\n",
            "Epoch 65/200\n",
            "24/24 [==============================] - 0s 1ms/step - loss: 0.3958 - accuracy: 0.8071\n",
            "Epoch 66/200\n",
            "24/24 [==============================] - 0s 1ms/step - loss: 0.3943 - accuracy: 0.8071\n",
            "Epoch 67/200\n",
            "24/24 [==============================] - 0s 1ms/step - loss: 0.3947 - accuracy: 0.8071\n",
            "Epoch 68/200\n",
            "24/24 [==============================] - 0s 1ms/step - loss: 0.3950 - accuracy: 0.8071\n",
            "Epoch 69/200\n",
            "24/24 [==============================] - 0s 1ms/step - loss: 0.3938 - accuracy: 0.8071\n",
            "Epoch 70/200\n",
            "24/24 [==============================] - 0s 1ms/step - loss: 0.3942 - accuracy: 0.8071\n",
            "Epoch 71/200\n",
            "24/24 [==============================] - 0s 1ms/step - loss: 0.3938 - accuracy: 0.8071\n",
            "Epoch 72/200\n",
            "24/24 [==============================] - 0s 1ms/step - loss: 0.3953 - accuracy: 0.7857\n",
            "Epoch 73/200\n",
            "24/24 [==============================] - 0s 1ms/step - loss: 0.3939 - accuracy: 0.8071\n",
            "Epoch 74/200\n",
            "24/24 [==============================] - 0s 1ms/step - loss: 0.3934 - accuracy: 0.8071\n",
            "Epoch 75/200\n",
            "24/24 [==============================] - 0s 1ms/step - loss: 0.3929 - accuracy: 0.8071\n",
            "Epoch 76/200\n",
            "24/24 [==============================] - 0s 1ms/step - loss: 0.3933 - accuracy: 0.8071\n",
            "Epoch 77/200\n",
            "24/24 [==============================] - 0s 1ms/step - loss: 0.3934 - accuracy: 0.8000\n",
            "Epoch 78/200\n",
            "24/24 [==============================] - 0s 1ms/step - loss: 0.3927 - accuracy: 0.8071\n",
            "Epoch 79/200\n",
            "24/24 [==============================] - 0s 1ms/step - loss: 0.3936 - accuracy: 0.8071\n",
            "Epoch 80/200\n",
            "24/24 [==============================] - 0s 1ms/step - loss: 0.3925 - accuracy: 0.8071\n",
            "Epoch 81/200\n",
            "24/24 [==============================] - 0s 1ms/step - loss: 0.3929 - accuracy: 0.8071\n",
            "Epoch 82/200\n",
            "24/24 [==============================] - 0s 1ms/step - loss: 0.3939 - accuracy: 0.7786\n",
            "Epoch 83/200\n",
            "24/24 [==============================] - 0s 1ms/step - loss: 0.3912 - accuracy: 0.7786\n",
            "Epoch 84/200\n",
            "24/24 [==============================] - 0s 1ms/step - loss: 0.3929 - accuracy: 0.8071\n",
            "Epoch 85/200\n",
            "24/24 [==============================] - 0s 1ms/step - loss: 0.3933 - accuracy: 0.7714\n",
            "Epoch 86/200\n",
            "24/24 [==============================] - 0s 1ms/step - loss: 0.3913 - accuracy: 0.7929\n",
            "Epoch 87/200\n",
            "24/24 [==============================] - 0s 1ms/step - loss: 0.3926 - accuracy: 0.8071\n",
            "Epoch 88/200\n",
            "24/24 [==============================] - 0s 1ms/step - loss: 0.3906 - accuracy: 0.8071\n",
            "Epoch 89/200\n",
            "24/24 [==============================] - 0s 1ms/step - loss: 0.3913 - accuracy: 0.8071\n",
            "Epoch 90/200\n",
            "24/24 [==============================] - 0s 1ms/step - loss: 0.3909 - accuracy: 0.8000\n",
            "Epoch 91/200\n",
            "24/24 [==============================] - 0s 1ms/step - loss: 0.3899 - accuracy: 0.8071\n",
            "Epoch 92/200\n",
            "24/24 [==============================] - 0s 1ms/step - loss: 0.3901 - accuracy: 0.8071\n",
            "Epoch 93/200\n",
            "24/24 [==============================] - 0s 1ms/step - loss: 0.3895 - accuracy: 0.8071\n",
            "Epoch 94/200\n",
            "24/24 [==============================] - 0s 1ms/step - loss: 0.3903 - accuracy: 0.8071\n",
            "Epoch 95/200\n",
            "24/24 [==============================] - 0s 1ms/step - loss: 0.3901 - accuracy: 0.8071\n",
            "Epoch 96/200\n",
            "24/24 [==============================] - 0s 1ms/step - loss: 0.3901 - accuracy: 0.8071\n",
            "Epoch 97/200\n",
            "24/24 [==============================] - 0s 1ms/step - loss: 0.3889 - accuracy: 0.8071\n",
            "Epoch 98/200\n",
            "24/24 [==============================] - 0s 1ms/step - loss: 0.3895 - accuracy: 0.8071\n",
            "Epoch 99/200\n",
            "24/24 [==============================] - 0s 1ms/step - loss: 0.3891 - accuracy: 0.8071\n",
            "Epoch 100/200\n",
            "24/24 [==============================] - 0s 1ms/step - loss: 0.3891 - accuracy: 0.8071\n",
            "Epoch 101/200\n",
            "24/24 [==============================] - 0s 1ms/step - loss: 0.3902 - accuracy: 0.8071\n",
            "Epoch 102/200\n",
            "24/24 [==============================] - 0s 1ms/step - loss: 0.3891 - accuracy: 0.8071\n",
            "Epoch 103/200\n",
            "24/24 [==============================] - 0s 1ms/step - loss: 0.3895 - accuracy: 0.8071\n",
            "Epoch 104/200\n",
            "24/24 [==============================] - 0s 1ms/step - loss: 0.3881 - accuracy: 0.8071\n",
            "Epoch 105/200\n",
            "24/24 [==============================] - 0s 1ms/step - loss: 0.3907 - accuracy: 0.8000\n",
            "Epoch 106/200\n",
            "24/24 [==============================] - 0s 1ms/step - loss: 0.3883 - accuracy: 0.8000\n",
            "Epoch 107/200\n",
            "24/24 [==============================] - 0s 1ms/step - loss: 0.3874 - accuracy: 0.8071\n",
            "Epoch 108/200\n",
            "24/24 [==============================] - 0s 1ms/step - loss: 0.3868 - accuracy: 0.8071\n",
            "Epoch 109/200\n",
            "24/24 [==============================] - 0s 1ms/step - loss: 0.3875 - accuracy: 0.7929\n",
            "Epoch 110/200\n",
            "24/24 [==============================] - 0s 1ms/step - loss: 0.3877 - accuracy: 0.7929\n",
            "Epoch 111/200\n",
            "24/24 [==============================] - 0s 1ms/step - loss: 0.3862 - accuracy: 0.7929\n",
            "Epoch 112/200\n",
            "24/24 [==============================] - 0s 1ms/step - loss: 0.3864 - accuracy: 0.8071\n",
            "Epoch 113/200\n",
            "24/24 [==============================] - 0s 1ms/step - loss: 0.3873 - accuracy: 0.8071\n",
            "Epoch 114/200\n",
            "24/24 [==============================] - 0s 1ms/step - loss: 0.3862 - accuracy: 0.8071\n",
            "Epoch 115/200\n",
            "24/24 [==============================] - 0s 1ms/step - loss: 0.3862 - accuracy: 0.8071\n",
            "Epoch 116/200\n",
            "24/24 [==============================] - 0s 1ms/step - loss: 0.3864 - accuracy: 0.7786\n",
            "Epoch 117/200\n",
            "24/24 [==============================] - 0s 1ms/step - loss: 0.3867 - accuracy: 0.7786\n",
            "Epoch 118/200\n",
            "24/24 [==============================] - 0s 1ms/step - loss: 0.3866 - accuracy: 0.7929\n",
            "Epoch 119/200\n",
            "24/24 [==============================] - 0s 1ms/step - loss: 0.3852 - accuracy: 0.8071\n",
            "Epoch 120/200\n",
            "24/24 [==============================] - 0s 1ms/step - loss: 0.3849 - accuracy: 0.8071\n",
            "Epoch 121/200\n",
            "24/24 [==============================] - 0s 1ms/step - loss: 0.3852 - accuracy: 0.8071\n",
            "Epoch 122/200\n",
            "24/24 [==============================] - 0s 1ms/step - loss: 0.3857 - accuracy: 0.8071\n",
            "Epoch 123/200\n",
            "24/24 [==============================] - 0s 1ms/step - loss: 0.3848 - accuracy: 0.8071\n",
            "Epoch 124/200\n",
            "24/24 [==============================] - 0s 1ms/step - loss: 0.3844 - accuracy: 0.8071\n",
            "Epoch 125/200\n",
            "24/24 [==============================] - 0s 1ms/step - loss: 0.3846 - accuracy: 0.8071\n",
            "Epoch 126/200\n",
            "24/24 [==============================] - 0s 1ms/step - loss: 0.3849 - accuracy: 0.7857\n",
            "Epoch 127/200\n",
            "24/24 [==============================] - 0s 1ms/step - loss: 0.3835 - accuracy: 0.8071\n",
            "Epoch 128/200\n",
            "24/24 [==============================] - 0s 1ms/step - loss: 0.3837 - accuracy: 0.8071\n",
            "Epoch 129/200\n",
            "24/24 [==============================] - 0s 1ms/step - loss: 0.3840 - accuracy: 0.8071\n",
            "Epoch 130/200\n",
            "24/24 [==============================] - 0s 1ms/step - loss: 0.3831 - accuracy: 0.8071\n",
            "Epoch 131/200\n",
            "24/24 [==============================] - 0s 1ms/step - loss: 0.3838 - accuracy: 0.8071\n",
            "Epoch 132/200\n",
            "24/24 [==============================] - 0s 1ms/step - loss: 0.3839 - accuracy: 0.8071\n",
            "Epoch 133/200\n",
            "24/24 [==============================] - 0s 1ms/step - loss: 0.3830 - accuracy: 0.8071\n",
            "Epoch 134/200\n",
            "24/24 [==============================] - 0s 1ms/step - loss: 0.3825 - accuracy: 0.8071\n",
            "Epoch 135/200\n",
            "24/24 [==============================] - 0s 1ms/step - loss: 0.3836 - accuracy: 0.8071\n",
            "Epoch 136/200\n",
            "24/24 [==============================] - 0s 1ms/step - loss: 0.3832 - accuracy: 0.8071\n",
            "Epoch 137/200\n",
            "24/24 [==============================] - 0s 1ms/step - loss: 0.3843 - accuracy: 0.7857\n",
            "Epoch 138/200\n",
            "24/24 [==============================] - 0s 1ms/step - loss: 0.3823 - accuracy: 0.8071\n",
            "Epoch 139/200\n",
            "24/24 [==============================] - 0s 1ms/step - loss: 0.3826 - accuracy: 0.8071\n",
            "Epoch 140/200\n",
            "24/24 [==============================] - 0s 1ms/step - loss: 0.3810 - accuracy: 0.8071\n",
            "Epoch 141/200\n",
            "24/24 [==============================] - 0s 1ms/step - loss: 0.3817 - accuracy: 0.8071\n",
            "Epoch 142/200\n",
            "24/24 [==============================] - 0s 1ms/step - loss: 0.3815 - accuracy: 0.8071\n",
            "Epoch 143/200\n",
            "24/24 [==============================] - 0s 1ms/step - loss: 0.3820 - accuracy: 0.8071\n",
            "Epoch 144/200\n",
            "24/24 [==============================] - 0s 1ms/step - loss: 0.3817 - accuracy: 0.8071\n",
            "Epoch 145/200\n",
            "24/24 [==============================] - 0s 1ms/step - loss: 0.3812 - accuracy: 0.8071\n",
            "Epoch 146/200\n",
            "24/24 [==============================] - 0s 1ms/step - loss: 0.3807 - accuracy: 0.8071\n",
            "Epoch 147/200\n",
            "24/24 [==============================] - 0s 1ms/step - loss: 0.3801 - accuracy: 0.8071\n",
            "Epoch 148/200\n",
            "24/24 [==============================] - 0s 1ms/step - loss: 0.3805 - accuracy: 0.7857\n",
            "Epoch 149/200\n",
            "24/24 [==============================] - 0s 1ms/step - loss: 0.3818 - accuracy: 0.7929\n",
            "Epoch 150/200\n",
            "24/24 [==============================] - 0s 1ms/step - loss: 0.3806 - accuracy: 0.8071\n",
            "Epoch 151/200\n",
            "24/24 [==============================] - 0s 2ms/step - loss: 0.3798 - accuracy: 0.8071\n",
            "Epoch 152/200\n",
            "24/24 [==============================] - 0s 1ms/step - loss: 0.3804 - accuracy: 0.8071\n",
            "Epoch 153/200\n",
            "24/24 [==============================] - 0s 1ms/step - loss: 0.3794 - accuracy: 0.8000\n",
            "Epoch 154/200\n",
            "24/24 [==============================] - 0s 1ms/step - loss: 0.3796 - accuracy: 0.8000\n",
            "Epoch 155/200\n",
            "24/24 [==============================] - 0s 1ms/step - loss: 0.3795 - accuracy: 0.8000\n",
            "Epoch 156/200\n",
            "24/24 [==============================] - 0s 1ms/step - loss: 0.3796 - accuracy: 0.8071\n",
            "Epoch 157/200\n",
            "24/24 [==============================] - 0s 1ms/step - loss: 0.3803 - accuracy: 0.8071\n",
            "Epoch 158/200\n",
            "24/24 [==============================] - 0s 1ms/step - loss: 0.3783 - accuracy: 0.8071\n",
            "Epoch 159/200\n",
            "24/24 [==============================] - 0s 1ms/step - loss: 0.3790 - accuracy: 0.8000\n",
            "Epoch 160/200\n",
            "24/24 [==============================] - 0s 1ms/step - loss: 0.3782 - accuracy: 0.7929\n",
            "Epoch 161/200\n",
            "24/24 [==============================] - 0s 1ms/step - loss: 0.3782 - accuracy: 0.7929\n",
            "Epoch 162/200\n",
            "24/24 [==============================] - 0s 1ms/step - loss: 0.3784 - accuracy: 0.8071\n",
            "Epoch 163/200\n",
            "24/24 [==============================] - 0s 1ms/step - loss: 0.3782 - accuracy: 0.8071\n",
            "Epoch 164/200\n",
            "24/24 [==============================] - 0s 1ms/step - loss: 0.3785 - accuracy: 0.8071\n",
            "Epoch 165/200\n",
            "24/24 [==============================] - 0s 1ms/step - loss: 0.3777 - accuracy: 0.8071\n",
            "Epoch 166/200\n",
            "24/24 [==============================] - 0s 1ms/step - loss: 0.3775 - accuracy: 0.8071\n",
            "Epoch 167/200\n",
            "24/24 [==============================] - 0s 1ms/step - loss: 0.3777 - accuracy: 0.8071\n",
            "Epoch 168/200\n",
            "24/24 [==============================] - 0s 1ms/step - loss: 0.3767 - accuracy: 0.8071\n",
            "Epoch 169/200\n",
            "24/24 [==============================] - 0s 1ms/step - loss: 0.3778 - accuracy: 0.7929\n",
            "Epoch 170/200\n",
            "24/24 [==============================] - 0s 1ms/step - loss: 0.3763 - accuracy: 0.8071\n",
            "Epoch 171/200\n",
            "24/24 [==============================] - 0s 1ms/step - loss: 0.3766 - accuracy: 0.8071\n",
            "Epoch 172/200\n",
            "24/24 [==============================] - 0s 1ms/step - loss: 0.3763 - accuracy: 0.8000\n",
            "Epoch 173/200\n",
            "24/24 [==============================] - 0s 1ms/step - loss: 0.3762 - accuracy: 0.8071\n",
            "Epoch 174/200\n",
            "24/24 [==============================] - 0s 1ms/step - loss: 0.3759 - accuracy: 0.8071\n",
            "Epoch 175/200\n",
            "24/24 [==============================] - 0s 1ms/step - loss: 0.3763 - accuracy: 0.8071\n",
            "Epoch 176/200\n",
            "24/24 [==============================] - 0s 1ms/step - loss: 0.3758 - accuracy: 0.7857\n",
            "Epoch 177/200\n",
            "24/24 [==============================] - 0s 1ms/step - loss: 0.3757 - accuracy: 0.7929\n",
            "Epoch 178/200\n",
            "24/24 [==============================] - 0s 1ms/step - loss: 0.3762 - accuracy: 0.8071\n",
            "Epoch 179/200\n",
            "24/24 [==============================] - 0s 1ms/step - loss: 0.3744 - accuracy: 0.8000\n",
            "Epoch 180/200\n",
            "24/24 [==============================] - 0s 1ms/step - loss: 0.3746 - accuracy: 0.8071\n",
            "Epoch 181/200\n",
            "24/24 [==============================] - 0s 1ms/step - loss: 0.3756 - accuracy: 0.8071\n",
            "Epoch 182/200\n",
            "24/24 [==============================] - 0s 1ms/step - loss: 0.3748 - accuracy: 0.8071\n",
            "Epoch 183/200\n",
            "24/24 [==============================] - 0s 1ms/step - loss: 0.3748 - accuracy: 0.8071\n",
            "Epoch 184/200\n",
            "24/24 [==============================] - 0s 1ms/step - loss: 0.3747 - accuracy: 0.8071\n",
            "Epoch 185/200\n",
            "24/24 [==============================] - 0s 1ms/step - loss: 0.3749 - accuracy: 0.8071\n",
            "Epoch 186/200\n",
            "24/24 [==============================] - 0s 1ms/step - loss: 0.3755 - accuracy: 0.8071\n",
            "Epoch 187/200\n",
            "24/24 [==============================] - 0s 1ms/step - loss: 0.3749 - accuracy: 0.8071\n",
            "Epoch 188/200\n",
            "24/24 [==============================] - 0s 1ms/step - loss: 0.3777 - accuracy: 0.7643\n",
            "Epoch 189/200\n",
            "24/24 [==============================] - 0s 1ms/step - loss: 0.3768 - accuracy: 0.8071\n",
            "Epoch 190/200\n",
            "24/24 [==============================] - 0s 1ms/step - loss: 0.3747 - accuracy: 0.8071\n",
            "Epoch 191/200\n",
            "24/24 [==============================] - 0s 1ms/step - loss: 0.3772 - accuracy: 0.8071\n",
            "Epoch 192/200\n",
            "24/24 [==============================] - 0s 1ms/step - loss: 0.3736 - accuracy: 0.8071\n",
            "Epoch 193/200\n",
            "24/24 [==============================] - 0s 1ms/step - loss: 0.3733 - accuracy: 0.8071\n",
            "Epoch 194/200\n",
            "24/24 [==============================] - 0s 1ms/step - loss: 0.3729 - accuracy: 0.8000\n",
            "Epoch 195/200\n",
            "24/24 [==============================] - 0s 1ms/step - loss: 0.3718 - accuracy: 0.8000\n",
            "Epoch 196/200\n",
            "24/24 [==============================] - 0s 1ms/step - loss: 0.3719 - accuracy: 0.8000\n",
            "Epoch 197/200\n",
            "24/24 [==============================] - 0s 1ms/step - loss: 0.3721 - accuracy: 0.8000\n",
            "Epoch 198/200\n",
            "24/24 [==============================] - 0s 1ms/step - loss: 0.3713 - accuracy: 0.8071\n",
            "Epoch 199/200\n",
            "24/24 [==============================] - 0s 2ms/step - loss: 0.3726 - accuracy: 0.7929\n",
            "Epoch 200/200\n",
            "24/24 [==============================] - 0s 1ms/step - loss: 0.3740 - accuracy: 0.7643\n"
          ],
          "name": "stdout"
        },
        {
          "output_type": "execute_result",
          "data": {
            "text/plain": [
              "<tensorflow.python.keras.callbacks.History at 0x7fe468254940>"
            ]
          },
          "metadata": {
            "tags": []
          },
          "execution_count": 24
        }
      ]
    },
    {
      "cell_type": "markdown",
      "metadata": {
        "id": "tJj5k2MxZga3",
        "colab_type": "text"
      },
      "source": [
        "## Part 4 - Model Evaluation"
      ]
    },
    {
      "cell_type": "markdown",
      "metadata": {
        "id": "u7yx47jPZt11",
        "colab_type": "text"
      },
      "source": [
        "### Predicting the Test set results"
      ]
    },
    {
      "cell_type": "code",
      "metadata": {
        "id": "nIyEeQdRZwgs",
        "colab_type": "code",
        "colab": {
          "base_uri": "https://localhost:8080/",
          "height": 316
        },
        "outputId": "45f2dca0-61ae-4fc7-d576-5c6a9eb62ebc"
      },
      "source": [
        "#from sklearn.preprocessing import StandardScaler\n",
        "y_pred = ann.predict(X_test)\n",
        "y_pred = (y_pred > 0.5)\n",
        "#print(np.concatenate((y_pred.reshape(len(y_pred),1), y_test.reshape(len(y_test),1)),1))"
      ],
      "execution_count": 23,
      "outputs": [
        {
          "output_type": "error",
          "ename": "AttributeError",
          "evalue": "ignored",
          "traceback": [
            "\u001b[0;31m---------------------------------------------------------------------------\u001b[0m",
            "\u001b[0;31mAttributeError\u001b[0m                            Traceback (most recent call last)",
            "\u001b[0;32m<ipython-input-23-d8d241ab3847>\u001b[0m in \u001b[0;36m<module>\u001b[0;34m()\u001b[0m\n\u001b[1;32m      2\u001b[0m \u001b[0my_pred\u001b[0m \u001b[0;34m=\u001b[0m \u001b[0mann\u001b[0m\u001b[0;34m.\u001b[0m\u001b[0mpredict\u001b[0m\u001b[0;34m(\u001b[0m\u001b[0mX_test\u001b[0m\u001b[0;34m)\u001b[0m\u001b[0;34m\u001b[0m\u001b[0;34m\u001b[0m\u001b[0m\n\u001b[1;32m      3\u001b[0m \u001b[0my_pred\u001b[0m \u001b[0;34m=\u001b[0m \u001b[0;34m(\u001b[0m\u001b[0my_pred\u001b[0m \u001b[0;34m>\u001b[0m \u001b[0;36m0.5\u001b[0m\u001b[0;34m)\u001b[0m\u001b[0;34m\u001b[0m\u001b[0;34m\u001b[0m\u001b[0m\n\u001b[0;32m----> 4\u001b[0;31m \u001b[0mprint\u001b[0m\u001b[0;34m(\u001b[0m\u001b[0mnp\u001b[0m\u001b[0;34m.\u001b[0m\u001b[0mconcatenate\u001b[0m\u001b[0;34m(\u001b[0m\u001b[0;34m(\u001b[0m\u001b[0my_pred\u001b[0m\u001b[0;34m.\u001b[0m\u001b[0mreshape\u001b[0m\u001b[0;34m(\u001b[0m\u001b[0mlen\u001b[0m\u001b[0;34m(\u001b[0m\u001b[0my_pred\u001b[0m\u001b[0;34m)\u001b[0m\u001b[0;34m,\u001b[0m\u001b[0;36m1\u001b[0m\u001b[0;34m)\u001b[0m\u001b[0;34m,\u001b[0m \u001b[0my_test\u001b[0m\u001b[0;34m.\u001b[0m\u001b[0mreshape\u001b[0m\u001b[0;34m(\u001b[0m\u001b[0mlen\u001b[0m\u001b[0;34m(\u001b[0m\u001b[0my_test\u001b[0m\u001b[0;34m)\u001b[0m\u001b[0;34m,\u001b[0m\u001b[0;36m1\u001b[0m\u001b[0;34m)\u001b[0m\u001b[0;34m)\u001b[0m\u001b[0;34m,\u001b[0m\u001b[0;36m1\u001b[0m\u001b[0;34m)\u001b[0m\u001b[0;34m)\u001b[0m\u001b[0;34m\u001b[0m\u001b[0;34m\u001b[0m\u001b[0m\n\u001b[0m",
            "\u001b[0;32m/usr/local/lib/python3.6/dist-packages/pandas/core/generic.py\u001b[0m in \u001b[0;36m__getattr__\u001b[0;34m(self, name)\u001b[0m\n\u001b[1;32m   5272\u001b[0m             \u001b[0;32mif\u001b[0m \u001b[0mself\u001b[0m\u001b[0;34m.\u001b[0m\u001b[0m_info_axis\u001b[0m\u001b[0;34m.\u001b[0m\u001b[0m_can_hold_identifiers_and_holds_name\u001b[0m\u001b[0;34m(\u001b[0m\u001b[0mname\u001b[0m\u001b[0;34m)\u001b[0m\u001b[0;34m:\u001b[0m\u001b[0;34m\u001b[0m\u001b[0;34m\u001b[0m\u001b[0m\n\u001b[1;32m   5273\u001b[0m                 \u001b[0;32mreturn\u001b[0m \u001b[0mself\u001b[0m\u001b[0;34m[\u001b[0m\u001b[0mname\u001b[0m\u001b[0;34m]\u001b[0m\u001b[0;34m\u001b[0m\u001b[0;34m\u001b[0m\u001b[0m\n\u001b[0;32m-> 5274\u001b[0;31m             \u001b[0;32mreturn\u001b[0m \u001b[0mobject\u001b[0m\u001b[0;34m.\u001b[0m\u001b[0m__getattribute__\u001b[0m\u001b[0;34m(\u001b[0m\u001b[0mself\u001b[0m\u001b[0;34m,\u001b[0m \u001b[0mname\u001b[0m\u001b[0;34m)\u001b[0m\u001b[0;34m\u001b[0m\u001b[0;34m\u001b[0m\u001b[0m\n\u001b[0m\u001b[1;32m   5275\u001b[0m \u001b[0;34m\u001b[0m\u001b[0m\n\u001b[1;32m   5276\u001b[0m     \u001b[0;32mdef\u001b[0m \u001b[0m__setattr__\u001b[0m\u001b[0;34m(\u001b[0m\u001b[0mself\u001b[0m\u001b[0;34m,\u001b[0m \u001b[0mname\u001b[0m\u001b[0;34m:\u001b[0m \u001b[0mstr\u001b[0m\u001b[0;34m,\u001b[0m \u001b[0mvalue\u001b[0m\u001b[0;34m)\u001b[0m \u001b[0;34m->\u001b[0m \u001b[0;32mNone\u001b[0m\u001b[0;34m:\u001b[0m\u001b[0;34m\u001b[0m\u001b[0;34m\u001b[0m\u001b[0m\n",
            "\u001b[0;31mAttributeError\u001b[0m: 'Series' object has no attribute 'reshape'"
          ]
        }
      ]
    },
    {
      "cell_type": "markdown",
      "metadata": {
        "id": "o0oyfLWoaEGw",
        "colab_type": "text"
      },
      "source": [
        "### Confusion Matrix"
      ]
    },
    {
      "cell_type": "code",
      "metadata": {
        "id": "qx1S_tTfqPb9",
        "colab_type": "code",
        "colab": {
          "base_uri": "https://localhost:8080/",
          "height": 51
        },
        "outputId": "a7cadfc1-7b08-44c4-f155-577c235aa623"
      },
      "source": [
        "# import the metrics class\n",
        "from sklearn import metrics\n",
        "cnf_matrix = metrics.confusion_matrix(y_test, y_pred)\n",
        "cnf_matrix"
      ],
      "execution_count": 25,
      "outputs": [
        {
          "output_type": "execute_result",
          "data": {
            "text/plain": [
              "array([[ 6,  4],\n",
              "       [ 4, 21]])"
            ]
          },
          "metadata": {
            "tags": []
          },
          "execution_count": 25
        }
      ]
    },
    {
      "cell_type": "code",
      "metadata": {
        "id": "g4Dp3aLhpcjl",
        "colab_type": "code",
        "colab": {
          "base_uri": "https://localhost:8080/",
          "height": 341
        },
        "outputId": "12be423c-4df8-4a42-d763-792865c51af4"
      },
      "source": [
        "#Plot Confusion Matrix\n",
        "class_names=[0,1] # name  of classes\n",
        "fig, ax = plt.subplots()\n",
        "tick_marks = np.arange(len(class_names))\n",
        "plt.xticks(tick_marks, class_names)\n",
        "plt.yticks(tick_marks, class_names)\n",
        "# create heatmap\n",
        "sns.heatmap(pd.DataFrame(cnf_matrix), annot=True, cmap=\"YlGnBu\" ,fmt='g')\n",
        "ax.xaxis.set_label_position(\"top\")\n",
        "plt.tight_layout()\n",
        "plt.title('Confusion matrix', y=1.1)\n",
        "plt.ylabel('Actual label')\n",
        "plt.xlabel('Predicted label')"
      ],
      "execution_count": 26,
      "outputs": [
        {
          "output_type": "execute_result",
          "data": {
            "text/plain": [
              "Text(0.5, 257.44, 'Predicted label')"
            ]
          },
          "metadata": {
            "tags": []
          },
          "execution_count": 26
        },
        {
          "output_type": "display_data",
          "data": {
            "image/png": "[encoded data removed]",
            "text/plain": [
              "<Figure size 432x288 with 2 Axes>"
            ]
          },
          "metadata": {
            "tags": [],
            "needs_background": "light"
          }
        }
      ]
    },
    {
      "cell_type": "code",
      "metadata": {
        "id": "C0kJm0KbqGt-",
        "colab_type": "code",
        "colab": {
          "base_uri": "https://localhost:8080/",
          "height": 68
        },
        "outputId": "7b704e52-ba7d-433a-c18b-0bf33e9dd442"
      },
      "source": [
        "print(\"Accuracy:\",metrics.accuracy_score(y_test, y_pred))\n",
        "print(\"Precision:\",metrics.precision_score(y_test, y_pred))\n",
        "print(\"Recall:\",metrics.recall_score(y_test, y_pred))"
      ],
      "execution_count": 27,
      "outputs": [
        {
          "output_type": "stream",
          "text": [
            "Accuracy: 0.7714285714285715\n",
            "Precision: 0.84\n",
            "Recall: 0.84\n"
          ],
          "name": "stdout"
        }
      ]
    }
  ]
}